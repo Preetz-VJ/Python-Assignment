{
 "cells": [
  {
   "cell_type": "code",
   "execution_count": 1,
   "metadata": {},
   "outputs": [
    {
     "name": "stdout",
     "output_type": "stream",
     "text": [
      "[1, 1, 1, 2, 2, 3, 4, 4, 10, 56, 56, 0, 0, 0, 0, 0]\n"
     ]
    }
   ],
   "source": [
    "\"\"\" Q1. [0,1,2,10,4,1,0,56,2,0,1,3,0,56,0,4]\n",
    "Sort by increasing order but all zeros should be at the right hand side.\n",
    "\"\"\"\n",
    "\n",
    "list1=[0,1,2,10,4,1,0,56,2,0,1,3,0,56,0,4]\n",
    "list1.sort()\n",
    "list1.extend((0,0,0,0,0))\n",
    "del list1[0:5]\n",
    "print(list1)"
   ]
  },
  {
   "cell_type": "code",
   "execution_count": 2,
   "metadata": {},
   "outputs": [
    {
     "name": "stdout",
     "output_type": "stream",
     "text": [
      "5 10 15 20 25 35 40 45 60 70 "
     ]
    }
   ],
   "source": [
    "\"\"\" Q2. list1=[10,20,40,60,70,80] sorted list\n",
    "list2=[5,15,25,35,45,60] sorted list\n",
    "Merge these two sorted lists to produce one sorted list,\n",
    "but use only loop either while or for only one time.\"\"\"\n",
    "\n",
    "list1=[10,20,40,60,70,80]\n",
    "list2=[5,15,25,35,45,60]\n",
    "list=list1+list2\n",
    "for i in range(min(list),max(list)):\n",
    "    if i in list:\n",
    "        print(i,end=' ')"
   ]
  },
  {
   "cell_type": "code",
   "execution_count": null,
   "metadata": {},
   "outputs": [],
   "source": []
  }
 ],
 "metadata": {
  "kernelspec": {
   "display_name": "Python 3",
   "language": "python",
   "name": "python3"
  },
  "language_info": {
   "codemirror_mode": {
    "name": "ipython",
    "version": 3
   },
   "file_extension": ".py",
   "mimetype": "text/x-python",
   "name": "python",
   "nbconvert_exporter": "python",
   "pygments_lexer": "ipython3",
   "version": "3.7.6"
  }
 },
 "nbformat": 4,
 "nbformat_minor": 4
}
