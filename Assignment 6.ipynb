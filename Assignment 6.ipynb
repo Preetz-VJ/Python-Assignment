{
 "cells": [
  {
   "cell_type": "code",
   "execution_count": 3,
   "metadata": {},
   "outputs": [
    {
     "name": "stdout",
     "output_type": "stream",
     "text": [
      "{'Sonu': 'doctor', 'Nanu': 'singer', 'Golu': 'dancer', 'Manu': 'player'}\n"
     ]
    }
   ],
   "source": [
    "\"\"\"Q1. convert to a dictionary in one list code using list comprehension\"\"\"\n",
    "list_keys = ['Sonu','Nanu','Golu','Manu']\n",
    "list_values = ['doctor','singer','dancer','player']\n",
    "result = {}\n",
    "for key in list_keys:\n",
    "    for values in list_values:\n",
    "        result[key] = values\n",
    "        list_values.remove(values)\n",
    "        break\n",
    "print(str(result))"
   ]
  },
  {
   "cell_type": "code",
   "execution_count": null,
   "metadata": {},
   "outputs": [],
   "source": []
  }
 ],
 "metadata": {
  "kernelspec": {
   "display_name": "Python 3",
   "language": "python",
   "name": "python3"
  },
  "language_info": {
   "codemirror_mode": {
    "name": "ipython",
    "version": 3
   },
   "file_extension": ".py",
   "mimetype": "text/x-python",
   "name": "python",
   "nbconvert_exporter": "python",
   "pygments_lexer": "ipython3",
   "version": "3.7.6"
  }
 },
 "nbformat": 4,
 "nbformat_minor": 4
}
